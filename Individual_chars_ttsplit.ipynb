{
 "cells": [
  {
   "cell_type": "code",
   "execution_count": 1,
   "metadata": {},
   "outputs": [],
   "source": [
    "import os\n",
    "import numpy as np\n",
    "import cv2\n",
    "import time\n",
    "import pandas as pd\n",
    "from sklearn.model_selection import train_test_split"
   ]
  },
  {
   "cell_type": "code",
   "execution_count": 2,
   "metadata": {},
   "outputs": [
    {
     "name": "stdout",
     "output_type": "stream",
     "text": [
      "Completed, time taken: 0.016033649444580078 seconds\n"
     ]
    }
   ],
   "source": [
    "ts = time.time()\n",
    "\n",
    "im_class = np.load(\"data/img_class.npy\")\n",
    "\n",
    "print(\"Completed, time taken: \" + str(time.time() - ts) + \" seconds\")"
   ]
  },
  {
   "cell_type": "code",
   "execution_count": 3,
   "metadata": {},
   "outputs": [
    {
     "name": "stdout",
     "output_type": "stream",
     "text": [
      "Completed, time taken: 15.897820472717285 seconds\n"
     ]
    }
   ],
   "source": [
    "ts = time.time()\n",
    "\n",
    "images = np.load(\"data/images.npy\")\n",
    "\n",
    "print(\"Completed, time taken: \" + str(time.time() - ts) + \" seconds\")"
   ]
  },
  {
   "cell_type": "code",
   "execution_count": 4,
   "metadata": {},
   "outputs": [],
   "source": [
    "Y_cat = pd.get_dummies(pd.DataFrame(im_class)[0])"
   ]
  },
  {
   "cell_type": "code",
   "execution_count": 5,
   "metadata": {},
   "outputs": [],
   "source": [
    "X_train, X_val, Y_train, Y_val = train_test_split(images, Y_cat, test_size = 0.1, random_state = 169)"
   ]
  },
  {
   "cell_type": "code",
   "execution_count": 6,
   "metadata": {},
   "outputs": [
    {
     "name": "stdout",
     "output_type": "stream",
     "text": [
      "Completed, time taken: 22.287158012390137 seconds\n"
     ]
    }
   ],
   "source": [
    "ts = time.time()\n",
    "\n",
    "np.save(\"data/X_train\", X_train)\n",
    "np.save(\"data/X_val\", X_val)\n",
    "np.save(\"data/Y_train\", Y_train)\n",
    "np.save(\"data/Y_val\", Y_val)\n",
    "\n",
    "print(\"Completed, time taken: \" + str(time.time() - ts) + \" seconds\")"
   ]
  }
 ],
 "metadata": {
  "kernelspec": {
   "display_name": "Python 3",
   "language": "python",
   "name": "python3"
  },
  "language_info": {
   "codemirror_mode": {
    "name": "ipython",
    "version": 3
   },
   "file_extension": ".py",
   "mimetype": "text/x-python",
   "name": "python",
   "nbconvert_exporter": "python",
   "pygments_lexer": "ipython3",
   "version": "3.6.7"
  }
 },
 "nbformat": 4,
 "nbformat_minor": 2
}

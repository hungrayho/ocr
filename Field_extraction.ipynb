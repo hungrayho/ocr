{
 "cells": [
  {
   "cell_type": "code",
   "execution_count": 11,
   "metadata": {},
   "outputs": [],
   "source": [
    "import cv2\n",
    "import numpy as np\n",
    "import pandas as pd\n",
    "from matplotlib import pyplot as plt\n",
    "import time"
   ]
  },
  {
   "cell_type": "code",
   "execution_count": 2,
   "metadata": {},
   "outputs": [],
   "source": [
    "img1 = cv2.imread(\"test.png\", cv2.IMREAD_GRAYSCALE)\n",
    "img2 = cv2.imread(\"test2.png\", cv2.IMREAD_GRAYSCALE)\n",
    "with open(\"data/fieldmap_1040_1988_1\") as f:\n",
    "        bbox_map_1 = f.read().splitlines()\n",
    "with open(\"data/fieldmap_1040_1988_2\") as f:\n",
    "        bbox_map_2 = f.read().splitlines() "
   ]
  },
  {
   "cell_type": "code",
   "execution_count": 3,
   "metadata": {},
   "outputs": [],
   "source": [
    "bbox_map_split_1 = []\n",
    "for i in bbox_map_1:\n",
    "    bbox_map_split_1.append(i.split())\n",
    "    \n",
    "bbox_map_split_2 = []\n",
    "for i in bbox_map_2:\n",
    "    bbox_map_split_2.append(i.split())"
   ]
  },
  {
   "cell_type": "code",
   "execution_count": 4,
   "metadata": {},
   "outputs": [],
   "source": [
    "df_1 = pd.DataFrame(bbox_map_split_1, columns=['ENTRY_FIELD', 'TYPE', 'CONTEXT', 'FIELD_DESC', 'XMIN', 'YMIN', 'XMAX', 'YMAX'])\n",
    "df_1['PAGE'] = 1\n",
    "df_2 = pd.DataFrame(bbox_map_split_2, columns=['ENTRY_FIELD', 'TYPE', 'CONTEXT', 'FIELD_DESC', 'XMIN', 'YMIN', 'XMAX', 'YMAX'])\n",
    "df_2['PAGE'] = 2"
   ]
  },
  {
   "cell_type": "code",
   "execution_count": 5,
   "metadata": {},
   "outputs": [],
   "source": [
    "df = df_1.append(df_2)\n",
    "df = df.reset_index()\n",
    "df['ENTRY'] = np.empty((len(df), 0)).tolist()"
   ]
  },
  {
   "cell_type": "code",
   "execution_count": 6,
   "metadata": {},
   "outputs": [],
   "source": [
    "def field_extract(df):\n",
    "    for i in range (0, len(df)):\n",
    "        if df[\"PAGE\"][i] == 1:\n",
    "            df[\"ENTRY\"][i] = img1[int(df[\"YMIN\"][i]):int(df[\"YMAX\"][i]), int(df[\"XMIN\"][i]):int(df[\"XMAX\"][i])]\n",
    "        if df[\"PAGE\"][i] == 2:\n",
    "            df[\"ENTRY\"][i] = img2[int(df[\"YMIN\"][i]):int(df[\"YMAX\"][i]), int(df[\"XMIN\"][i]):int(df[\"XMAX\"][i])]"
   ]
  },
  {
   "cell_type": "code",
   "execution_count": 7,
   "metadata": {},
   "outputs": [
    {
     "name": "stderr",
     "output_type": "stream",
     "text": [
      "C:\\Users\\Chris\\Anaconda3\\envs\\py36\\lib\\site-packages\\ipykernel_launcher.py:4: SettingWithCopyWarning: \n",
      "A value is trying to be set on a copy of a slice from a DataFrame\n",
      "\n",
      "See the caveats in the documentation: http://pandas.pydata.org/pandas-docs/stable/indexing.html#indexing-view-versus-copy\n",
      "  after removing the cwd from sys.path.\n",
      "C:\\Users\\Chris\\Anaconda3\\envs\\py36\\lib\\site-packages\\ipykernel_launcher.py:6: SettingWithCopyWarning: \n",
      "A value is trying to be set on a copy of a slice from a DataFrame\n",
      "\n",
      "See the caveats in the documentation: http://pandas.pydata.org/pandas-docs/stable/indexing.html#indexing-view-versus-copy\n",
      "  \n"
     ]
    }
   ],
   "source": [
    "field_extract(df)"
   ]
  },
  {
   "cell_type": "code",
   "execution_count": 8,
   "metadata": {},
   "outputs": [
    {
     "data": {
      "text/html": [
       "<div>\n",
       "<style scoped>\n",
       "    .dataframe tbody tr th:only-of-type {\n",
       "        vertical-align: middle;\n",
       "    }\n",
       "\n",
       "    .dataframe tbody tr th {\n",
       "        vertical-align: top;\n",
       "    }\n",
       "\n",
       "    .dataframe thead th {\n",
       "        text-align: right;\n",
       "    }\n",
       "</style>\n",
       "<table border=\"1\" class=\"dataframe\">\n",
       "  <thead>\n",
       "    <tr style=\"text-align: right;\">\n",
       "      <th></th>\n",
       "      <th>index</th>\n",
       "      <th>ENTRY_FIELD</th>\n",
       "      <th>TYPE</th>\n",
       "      <th>CONTEXT</th>\n",
       "      <th>FIELD_DESC</th>\n",
       "      <th>XMIN</th>\n",
       "      <th>YMIN</th>\n",
       "      <th>XMAX</th>\n",
       "      <th>YMAX</th>\n",
       "      <th>PAGE</th>\n",
       "      <th>ENTRY</th>\n",
       "    </tr>\n",
       "  </thead>\n",
       "  <tbody>\n",
       "    <tr>\n",
       "      <th>0</th>\n",
       "      <td>0</td>\n",
       "      <td>1040_1_L_H1_V1</td>\n",
       "      <td>A</td>\n",
       "      <td>DATA</td>\n",
       "      <td>TAX_MONTH_BEGINNING</td>\n",
       "      <td>862</td>\n",
       "      <td>202</td>\n",
       "      <td>1003</td>\n",
       "      <td>238</td>\n",
       "      <td>1</td>\n",
       "      <td>[[8, 15, 0, 0, 64, 72, 80, 88, 0, 0, 0, 0, 0, ...</td>\n",
       "    </tr>\n",
       "    <tr>\n",
       "      <th>1</th>\n",
       "      <td>1</td>\n",
       "      <td>1040_1_L_H2_V1</td>\n",
       "      <td>A</td>\n",
       "      <td>DATA</td>\n",
       "      <td>TAX_MONTH_ENDING</td>\n",
       "      <td>1127</td>\n",
       "      <td>202</td>\n",
       "      <td>1311</td>\n",
       "      <td>238</td>\n",
       "      <td>1</td>\n",
       "      <td>[[162, 207, 215, 153, 0, 77, 48, 2, 16, 96, 80...</td>\n",
       "    </tr>\n",
       "    <tr>\n",
       "      <th>2</th>\n",
       "      <td>2</td>\n",
       "      <td>1040_1_L_H3_V1</td>\n",
       "      <td>A</td>\n",
       "      <td>DATA</td>\n",
       "      <td>TAX_YEAR</td>\n",
       "      <td>1328</td>\n",
       "      <td>202</td>\n",
       "      <td>1417</td>\n",
       "      <td>238</td>\n",
       "      <td>1</td>\n",
       "      <td>[[0, 0, 40, 0, 0, 0, 80, 88, 0, 0, 0, 0, 0, 0,...</td>\n",
       "    </tr>\n",
       "    <tr>\n",
       "      <th>3</th>\n",
       "      <td>3</td>\n",
       "      <td>1040_1_L_H1_V2</td>\n",
       "      <td>A</td>\n",
       "      <td>NAME</td>\n",
       "      <td>NAME</td>\n",
       "      <td>420</td>\n",
       "      <td>259</td>\n",
       "      <td>1318</td>\n",
       "      <td>303</td>\n",
       "      <td>1</td>\n",
       "      <td>[[48, 0, 0, 44, 234, 255, 255, 255, 255, 255, ...</td>\n",
       "    </tr>\n",
       "    <tr>\n",
       "      <th>4</th>\n",
       "      <td>4</td>\n",
       "      <td>1040_1_L_H2_V2</td>\n",
       "      <td>A</td>\n",
       "      <td>SSN</td>\n",
       "      <td>SSN</td>\n",
       "      <td>1329</td>\n",
       "      <td>259</td>\n",
       "      <td>1620</td>\n",
       "      <td>303</td>\n",
       "      <td>1</td>\n",
       "      <td>[[255, 255, 255, 255, 5, 0, 0, 0, 88, 255, 255...</td>\n",
       "    </tr>\n",
       "  </tbody>\n",
       "</table>\n",
       "</div>"
      ],
      "text/plain": [
       "   index     ENTRY_FIELD TYPE CONTEXT           FIELD_DESC  XMIN YMIN  XMAX  \\\n",
       "0      0  1040_1_L_H1_V1    A    DATA  TAX_MONTH_BEGINNING   862  202  1003   \n",
       "1      1  1040_1_L_H2_V1    A    DATA     TAX_MONTH_ENDING  1127  202  1311   \n",
       "2      2  1040_1_L_H3_V1    A    DATA             TAX_YEAR  1328  202  1417   \n",
       "3      3  1040_1_L_H1_V2    A    NAME                 NAME   420  259  1318   \n",
       "4      4  1040_1_L_H2_V2    A     SSN                  SSN  1329  259  1620   \n",
       "\n",
       "  YMAX  PAGE                                              ENTRY  \n",
       "0  238     1  [[8, 15, 0, 0, 64, 72, 80, 88, 0, 0, 0, 0, 0, ...  \n",
       "1  238     1  [[162, 207, 215, 153, 0, 77, 48, 2, 16, 96, 80...  \n",
       "2  238     1  [[0, 0, 40, 0, 0, 0, 80, 88, 0, 0, 0, 0, 0, 0,...  \n",
       "3  303     1  [[48, 0, 0, 44, 234, 255, 255, 255, 255, 255, ...  \n",
       "4  303     1  [[255, 255, 255, 255, 5, 0, 0, 0, 88, 255, 255...  "
      ]
     },
     "execution_count": 8,
     "metadata": {},
     "output_type": "execute_result"
    }
   ],
   "source": [
    "df.head()"
   ]
  },
  {
   "cell_type": "code",
   "execution_count": 14,
   "metadata": {},
   "outputs": [
    {
     "data": {
      "text/plain": [
       "<matplotlib.image.AxesImage at 0x1e59d26c518>"
      ]
     },
     "execution_count": 14,
     "metadata": {},
     "output_type": "execute_result"
    },
    {
     "data": {
      "image/png": "[encoded data removed]",
      "text/plain": [
       "<Figure size 432x288 with 1 Axes>"
      ]
     },
     "metadata": {
      "needs_background": "light"
     },
     "output_type": "display_data"
    }
   ],
   "source": [
    "plt.imshow(df[\"ENTRY\"][3], cmap='gray')"
   ]
  },
  {
   "cell_type": "code",
   "execution_count": null,
   "metadata": {},
   "outputs": [],
   "source": []
  }
 ],
 "metadata": {
  "kernelspec": {
   "display_name": "Python 3",
   "language": "python",
   "name": "python3"
  },
  "language_info": {
   "codemirror_mode": {
    "name": "ipython",
    "version": 3
   },
   "file_extension": ".py",
   "mimetype": "text/x-python",
   "name": "python",
   "nbconvert_exporter": "python",
   "pygments_lexer": "ipython3",
   "version": "3.6.7"
  }
 },
 "nbformat": 4,
 "nbformat_minor": 2
}

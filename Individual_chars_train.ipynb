{
 "cells": [
  {
   "cell_type": "code",
   "execution_count": 1,
   "metadata": {},
   "outputs": [],
   "source": [
    "import pandas as pd\n",
    "import numpy as np\n",
    "import time"
   ]
  },
  {
   "cell_type": "code",
   "execution_count": 2,
   "metadata": {},
   "outputs": [
    {
     "name": "stdout",
     "output_type": "stream",
     "text": [
      "Completed, time taken: 14.344408988952637 seconds\n"
     ]
    }
   ],
   "source": [
    "ts = time.time()\n",
    "\n",
    "X_train = np.load(\"data/X_train.npy\")\n",
    "\n",
    "print(\"Completed, time taken: \" + str(time.time() - ts) + \" seconds\")"
   ]
  },
  {
   "cell_type": "code",
   "execution_count": 3,
   "metadata": {},
   "outputs": [
    {
     "name": "stdout",
     "output_type": "stream",
     "text": [
      "Completed, time taken: 1.6717512607574463 seconds\n"
     ]
    }
   ],
   "source": [
    "ts = time.time()\n",
    "\n",
    "X_val = np.load(\"data/X_val.npy\")\n",
    "\n",
    "print(\"Completed, time taken: \" + str(time.time() - ts) + \" seconds\")"
   ]
  },
  {
   "cell_type": "code",
   "execution_count": 4,
   "metadata": {},
   "outputs": [
    {
     "name": "stdout",
     "output_type": "stream",
     "text": [
      "Completed, time taken: 0.09719061851501465 seconds\n"
     ]
    }
   ],
   "source": [
    "ts = time.time()\n",
    "\n",
    "Y_train = np.load(\"data/Y_train.npy\")\n",
    "\n",
    "print(\"Completed, time taken: \" + str(time.time() - ts) + \" seconds\")"
   ]
  },
  {
   "cell_type": "code",
   "execution_count": 5,
   "metadata": {},
   "outputs": [
    {
     "name": "stdout",
     "output_type": "stream",
     "text": [
      "Completed, time taken: 0.016972064971923828 seconds\n"
     ]
    }
   ],
   "source": [
    "ts = time.time()\n",
    "\n",
    "Y_val = np.load(\"data/Y_val.npy\")\n",
    "\n",
    "print(\"Completed, time taken: \" + str(time.time() - ts) + \" seconds\")"
   ]
  },
  {
   "cell_type": "code",
   "execution_count": 6,
   "metadata": {},
   "outputs": [
    {
     "name": "stderr",
     "output_type": "stream",
     "text": [
      "Using TensorFlow backend.\n"
     ]
    }
   ],
   "source": [
    "import keras\n",
    "from keras.models import Sequential\n",
    "from keras.layers import Dense, Dropout, Conv2D, MaxPool2D, Flatten\n",
    "from keras.optimizers import RMSprop"
   ]
  },
  {
   "cell_type": "code",
   "execution_count": 7,
   "metadata": {},
   "outputs": [],
   "source": [
    "model= Sequential()\n",
    "\n",
    "model.add(Conv2D(32,(4,4),padding=\"Same\",activation=\"relu\", input_shape=(32,32,1)  ))\n",
    "model.add(Conv2D(32, (4,4), padding=\"Same\", activation=\"relu\"))\n",
    "model.add(MaxPool2D())\n",
    "\n",
    "model.add(Dropout(0.2))\n",
    "model.add(Conv2D(32,(3,3),padding=\"Same\",activation=\"relu\" ))\n",
    "model.add(Conv2D(32, (3,3), padding=\"Same\", activation=\"relu\"))\n",
    "model.add(MaxPool2D(strides=(2,2)))\n",
    "\n",
    "model.add(Flatten())\n",
    "model.add(Dense(256, activation=\"relu\"))\n",
    "model.add(Dropout(0.4))\n",
    "model.add(Dense(47, activation=\"softmax\"))"
   ]
  },
  {
   "cell_type": "code",
   "execution_count": 8,
   "metadata": {},
   "outputs": [],
   "source": [
    "model.compile(loss=keras.losses.categorical_crossentropy,\n",
    "              optimizer=keras.optimizers.Adadelta(),\n",
    "              metrics=['accuracy'])"
   ]
  },
  {
   "cell_type": "code",
   "execution_count": null,
   "metadata": {},
   "outputs": [
    {
     "name": "stdout",
     "output_type": "stream",
     "text": [
      "Train on 732829 samples, validate on 81426 samples\n",
      "Epoch 1/10\n",
      "732829/732829 [==============================] - 529s 722us/step - loss: 0.5536 - acc: 0.8405 - val_loss: 0.4894 - val_acc: 0.8594\n",
      "Epoch 2/10\n",
      "732829/732829 [==============================] - 512s 699us/step - loss: 0.6736 - acc: 0.8232 - val_loss: 0.6026 - val_acc: 0.8242\n",
      "Epoch 3/10\n",
      "732829/732829 [==============================] - 507s 692us/step - loss: 0.8312 - acc: 0.7985 - val_loss: 0.5987 - val_acc: 0.8450\n",
      "Epoch 4/10\n",
      "732829/732829 [==============================] - 499s 680us/step - loss: 0.9795 - acc: 0.7771 - val_loss: 0.7661 - val_acc: 0.8372\n",
      "Epoch 5/10\n",
      "275800/732829 [==========>...................] - ETA: 5:01 - loss: 1.0733 - acc: 0.7663Epoch 8/10\n",
      "732829/732829 [==============================] - 543s 742us/step - loss: 1.4545 - acc: 0.7307 - val_loss: 1.1014 - val_acc: 0.6985\n",
      "Epoch 9/10\n",
      "389288/732829 [==============>...............] - ETA: 3:53 - loss: 1.5645 - acc: 0.7222"
     ]
    }
   ],
   "source": [
    "history =model.fit(X_train,Y_train,batch_size=8, epochs=10, validation_data=(X_val, Y_val))"
   ]
  },
  {
   "cell_type": "code",
   "execution_count": null,
   "metadata": {},
   "outputs": [],
   "source": []
  }
 ],
 "metadata": {
  "kernelspec": {
   "display_name": "Python 3",
   "language": "python",
   "name": "python3"
  },
  "language_info": {
   "codemirror_mode": {
    "name": "ipython",
    "version": 3
   },
   "file_extension": ".py",
   "mimetype": "text/x-python",
   "name": "python",
   "nbconvert_exporter": "python",
   "pygments_lexer": "ipython3",
   "version": "3.6.7"
  }
 },
 "nbformat": 4,
 "nbformat_minor": 2
}
